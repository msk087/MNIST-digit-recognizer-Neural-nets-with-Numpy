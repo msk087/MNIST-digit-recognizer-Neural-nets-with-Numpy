{
 "cells": [
  {
   "cell_type": "code",
   "execution_count": 2,
   "metadata": {
    "_cell_guid": "b1076dfc-b9ad-4769-8c92-a6c4dae69d19",
    "_uuid": "8f2839f25d086af736a60e9eeb907d3b93b6e0e5",
    "execution": {
     "iopub.execute_input": "2022-09-01T04:06:26.485253Z",
     "iopub.status.busy": "2022-09-01T04:06:26.484810Z",
     "iopub.status.idle": "2022-09-01T04:06:26.489874Z",
     "shell.execute_reply": "2022-09-01T04:06:26.489002Z",
     "shell.execute_reply.started": "2022-09-01T04:06:26.485217Z"
    }
   },
   "outputs": [],
   "source": [
    "import numpy as np\n",
    "import pandas as pd\n",
    "from matplotlib import pyplot as plt\n"
   ]
  },
  {
   "cell_type": "code",
   "execution_count": 3,
   "metadata": {
    "execution": {
     "iopub.execute_input": "2022-09-01T04:06:26.831421Z",
     "iopub.status.busy": "2022-09-01T04:06:26.831027Z",
     "iopub.status.idle": "2022-09-01T04:06:30.296710Z",
     "shell.execute_reply": "2022-09-01T04:06:30.295545Z",
     "shell.execute_reply.started": "2022-09-01T04:06:26.831391Z"
    }
   },
   "outputs": [],
   "source": [
    "data = pd.read_csv('./data/train.csv')"
   ]
  },
  {
   "cell_type": "code",
   "execution_count": 4,
   "metadata": {
    "execution": {
     "iopub.execute_input": "2022-09-01T04:06:30.300605Z",
     "iopub.status.busy": "2022-09-01T04:06:30.299866Z",
     "iopub.status.idle": "2022-09-01T04:06:30.330022Z",
     "shell.execute_reply": "2022-09-01T04:06:30.328886Z",
     "shell.execute_reply.started": "2022-09-01T04:06:30.300562Z"
    }
   },
   "outputs": [
    {
     "data": {
      "text/html": [
       "<div>\n",
       "<style scoped>\n",
       "    .dataframe tbody tr th:only-of-type {\n",
       "        vertical-align: middle;\n",
       "    }\n",
       "\n",
       "    .dataframe tbody tr th {\n",
       "        vertical-align: top;\n",
       "    }\n",
       "\n",
       "    .dataframe thead th {\n",
       "        text-align: right;\n",
       "    }\n",
       "</style>\n",
       "<table border=\"1\" class=\"dataframe\">\n",
       "  <thead>\n",
       "    <tr style=\"text-align: right;\">\n",
       "      <th></th>\n",
       "      <th>label</th>\n",
       "      <th>pixel0</th>\n",
       "      <th>pixel1</th>\n",
       "      <th>pixel2</th>\n",
       "      <th>pixel3</th>\n",
       "      <th>pixel4</th>\n",
       "      <th>pixel5</th>\n",
       "      <th>pixel6</th>\n",
       "      <th>pixel7</th>\n",
       "      <th>pixel8</th>\n",
       "      <th>...</th>\n",
       "      <th>pixel774</th>\n",
       "      <th>pixel775</th>\n",
       "      <th>pixel776</th>\n",
       "      <th>pixel777</th>\n",
       "      <th>pixel778</th>\n",
       "      <th>pixel779</th>\n",
       "      <th>pixel780</th>\n",
       "      <th>pixel781</th>\n",
       "      <th>pixel782</th>\n",
       "      <th>pixel783</th>\n",
       "    </tr>\n",
       "  </thead>\n",
       "  <tbody>\n",
       "    <tr>\n",
       "      <th>0</th>\n",
       "      <td>1</td>\n",
       "      <td>0</td>\n",
       "      <td>0</td>\n",
       "      <td>0</td>\n",
       "      <td>0</td>\n",
       "      <td>0</td>\n",
       "      <td>0</td>\n",
       "      <td>0</td>\n",
       "      <td>0</td>\n",
       "      <td>0</td>\n",
       "      <td>...</td>\n",
       "      <td>0</td>\n",
       "      <td>0</td>\n",
       "      <td>0</td>\n",
       "      <td>0</td>\n",
       "      <td>0</td>\n",
       "      <td>0</td>\n",
       "      <td>0</td>\n",
       "      <td>0</td>\n",
       "      <td>0</td>\n",
       "      <td>0</td>\n",
       "    </tr>\n",
       "    <tr>\n",
       "      <th>1</th>\n",
       "      <td>0</td>\n",
       "      <td>0</td>\n",
       "      <td>0</td>\n",
       "      <td>0</td>\n",
       "      <td>0</td>\n",
       "      <td>0</td>\n",
       "      <td>0</td>\n",
       "      <td>0</td>\n",
       "      <td>0</td>\n",
       "      <td>0</td>\n",
       "      <td>...</td>\n",
       "      <td>0</td>\n",
       "      <td>0</td>\n",
       "      <td>0</td>\n",
       "      <td>0</td>\n",
       "      <td>0</td>\n",
       "      <td>0</td>\n",
       "      <td>0</td>\n",
       "      <td>0</td>\n",
       "      <td>0</td>\n",
       "      <td>0</td>\n",
       "    </tr>\n",
       "    <tr>\n",
       "      <th>2</th>\n",
       "      <td>1</td>\n",
       "      <td>0</td>\n",
       "      <td>0</td>\n",
       "      <td>0</td>\n",
       "      <td>0</td>\n",
       "      <td>0</td>\n",
       "      <td>0</td>\n",
       "      <td>0</td>\n",
       "      <td>0</td>\n",
       "      <td>0</td>\n",
       "      <td>...</td>\n",
       "      <td>0</td>\n",
       "      <td>0</td>\n",
       "      <td>0</td>\n",
       "      <td>0</td>\n",
       "      <td>0</td>\n",
       "      <td>0</td>\n",
       "      <td>0</td>\n",
       "      <td>0</td>\n",
       "      <td>0</td>\n",
       "      <td>0</td>\n",
       "    </tr>\n",
       "    <tr>\n",
       "      <th>3</th>\n",
       "      <td>4</td>\n",
       "      <td>0</td>\n",
       "      <td>0</td>\n",
       "      <td>0</td>\n",
       "      <td>0</td>\n",
       "      <td>0</td>\n",
       "      <td>0</td>\n",
       "      <td>0</td>\n",
       "      <td>0</td>\n",
       "      <td>0</td>\n",
       "      <td>...</td>\n",
       "      <td>0</td>\n",
       "      <td>0</td>\n",
       "      <td>0</td>\n",
       "      <td>0</td>\n",
       "      <td>0</td>\n",
       "      <td>0</td>\n",
       "      <td>0</td>\n",
       "      <td>0</td>\n",
       "      <td>0</td>\n",
       "      <td>0</td>\n",
       "    </tr>\n",
       "    <tr>\n",
       "      <th>4</th>\n",
       "      <td>0</td>\n",
       "      <td>0</td>\n",
       "      <td>0</td>\n",
       "      <td>0</td>\n",
       "      <td>0</td>\n",
       "      <td>0</td>\n",
       "      <td>0</td>\n",
       "      <td>0</td>\n",
       "      <td>0</td>\n",
       "      <td>0</td>\n",
       "      <td>...</td>\n",
       "      <td>0</td>\n",
       "      <td>0</td>\n",
       "      <td>0</td>\n",
       "      <td>0</td>\n",
       "      <td>0</td>\n",
       "      <td>0</td>\n",
       "      <td>0</td>\n",
       "      <td>0</td>\n",
       "      <td>0</td>\n",
       "      <td>0</td>\n",
       "    </tr>\n",
       "  </tbody>\n",
       "</table>\n",
       "<p>5 rows × 785 columns</p>\n",
       "</div>"
      ],
      "text/plain": [
       "   label  pixel0  pixel1  pixel2  pixel3  pixel4  pixel5  pixel6  pixel7  \\\n",
       "0      1       0       0       0       0       0       0       0       0   \n",
       "1      0       0       0       0       0       0       0       0       0   \n",
       "2      1       0       0       0       0       0       0       0       0   \n",
       "3      4       0       0       0       0       0       0       0       0   \n",
       "4      0       0       0       0       0       0       0       0       0   \n",
       "\n",
       "   pixel8  ...  pixel774  pixel775  pixel776  pixel777  pixel778  pixel779  \\\n",
       "0       0  ...         0         0         0         0         0         0   \n",
       "1       0  ...         0         0         0         0         0         0   \n",
       "2       0  ...         0         0         0         0         0         0   \n",
       "3       0  ...         0         0         0         0         0         0   \n",
       "4       0  ...         0         0         0         0         0         0   \n",
       "\n",
       "   pixel780  pixel781  pixel782  pixel783  \n",
       "0         0         0         0         0  \n",
       "1         0         0         0         0  \n",
       "2         0         0         0         0  \n",
       "3         0         0         0         0  \n",
       "4         0         0         0         0  \n",
       "\n",
       "[5 rows x 785 columns]"
      ]
     },
     "execution_count": 4,
     "metadata": {},
     "output_type": "execute_result"
    }
   ],
   "source": [
    "data.head()"
   ]
  },
  {
   "cell_type": "code",
   "execution_count": 5,
   "metadata": {
    "execution": {
     "iopub.execute_input": "2022-09-01T04:06:30.332235Z",
     "iopub.status.busy": "2022-09-01T04:06:30.331260Z",
     "iopub.status.idle": "2022-09-01T04:06:30.452332Z",
     "shell.execute_reply": "2022-09-01T04:06:30.451409Z",
     "shell.execute_reply.started": "2022-09-01T04:06:30.332204Z"
    }
   },
   "outputs": [],
   "source": [
    "data = np.array(data)"
   ]
  },
  {
   "cell_type": "code",
   "execution_count": 9,
   "metadata": {
    "execution": {
     "iopub.execute_input": "2022-09-01T04:22:01.394708Z",
     "iopub.status.busy": "2022-09-01T04:22:01.393516Z",
     "iopub.status.idle": "2022-09-01T04:22:02.045435Z",
     "shell.execute_reply": "2022-09-01T04:22:02.044381Z",
     "shell.execute_reply.started": "2022-09-01T04:22:01.394657Z"
    }
   },
   "outputs": [],
   "source": [
    "m, n = data.shape\n",
    "np.random.shuffle(data)\n",
    "\n",
    "data_dev = data[0:1000].T\n",
    "Y_dev = data_dev[0]\n",
    "X_dev = data_dev[1:n]\n",
    "X_dev = X_dev / 255.\n",
    "\n",
    "data_train = data[1000:m].T\n",
    "Y_train = data_train[0]\n",
    "X_train = data_train[1:n]\n",
    "X_train = X_train / 255.\n",
    "_,m_train = X_train.shape"
   ]
  },
  {
   "cell_type": "code",
   "execution_count": 10,
   "metadata": {
    "execution": {
     "iopub.execute_input": "2022-09-01T04:23:29.593528Z",
     "iopub.status.busy": "2022-09-01T04:23:29.592618Z",
     "iopub.status.idle": "2022-09-01T04:23:29.606332Z",
     "shell.execute_reply": "2022-09-01T04:23:29.605147Z",
     "shell.execute_reply.started": "2022-09-01T04:23:29.593489Z"
    }
   },
   "outputs": [],
   "source": [
    "def init_params():\n",
    "    W1 = np.random.rand(10, 784) - 0.5\n",
    "    b1 = np.random.rand(10, 1) - 0.5\n",
    "    W2 = np.random.rand(10, 10) - 0.5\n",
    "    b2 = np.random.rand(10, 1) - 0.5\n",
    "    return W1, b1, W2, b2\n",
    "\n",
    "def ReLU(Z):\n",
    "    return np.maximum(Z, 0)\n",
    "\n",
    "def softmax(Z):\n",
    "    A = np.exp(Z) / sum(np.exp(Z))\n",
    "    return A\n",
    "\n",
    "def forward_prop(W1, b1, W2, b2, X):\n",
    "    Z1 = W1.dot(X) + b1\n",
    "    A1 = ReLU(Z1)\n",
    "    Z2 = W2.dot(A1) + b2\n",
    "    A2 = softmax(Z2)\n",
    "    return Z1, A1, Z2, A2\n",
    "\n",
    "def ReLU_deriv(Z):\n",
    "    return Z > 0\n",
    "\n",
    "def one_hot(Y):\n",
    "    one_hot_Y = np.zeros((Y.size, Y.max() + 1))\n",
    "    one_hot_Y[np.arange(Y.size), Y] = 1\n",
    "    one_hot_Y = one_hot_Y.T\n",
    "    return one_hot_Y\n",
    "def backward_prop(Z1, A1, Z2, A2, W1, W2, X, Y):\n",
    "    one_hot_Y = one_hot(Y)\n",
    "    dZ2 = A2 - one_hot_Y\n",
    "    dW2 = 1 / m * dZ2.dot(A1.T)\n",
    "    db2 = 1 / m * np.sum(dZ2)\n",
    "    dZ1 = W2.T.dot(dZ2) * ReLU_deriv(Z1)\n",
    "    dW1 = 1 / m * dZ1.dot(X.T)\n",
    "    db1 = 1 / m * np.sum(dZ1)\n",
    "    return dW1, db1, dW2, db2\n",
    "\n",
    "def update_params(W1, b1, W2, b2, dW1, db1, dW2, db2, alpha):\n",
    "    W1 = W1 - alpha * dW1\n",
    "    b1 = b1 - alpha * db1    \n",
    "    W2 = W2 - alpha * dW2  \n",
    "    b2 = b2 - alpha * db2    \n",
    "    return W1, b1, W2, b2"
   ]
  },
  {
   "cell_type": "code",
   "execution_count": 11,
   "metadata": {
    "execution": {
     "iopub.execute_input": "2022-09-01T04:24:03.543741Z",
     "iopub.status.busy": "2022-09-01T04:24:03.542606Z",
     "iopub.status.idle": "2022-09-01T04:24:03.552432Z",
     "shell.execute_reply": "2022-09-01T04:24:03.551253Z",
     "shell.execute_reply.started": "2022-09-01T04:24:03.543696Z"
    }
   },
   "outputs": [],
   "source": [
    "def get_predictions(A2):\n",
    "    return np.argmax(A2, 0)\n",
    "\n",
    "def get_accuracy(predictions, Y):\n",
    "    print(predictions, Y)\n",
    "    return np.sum(predictions == Y) / Y.size\n",
    "\n",
    "def gradient_descent(X, Y, alpha, iterations):\n",
    "    W1, b1, W2, b2 = init_params()\n",
    "    for i in range(iterations):\n",
    "        Z1, A1, Z2, A2 = forward_prop(W1, b1, W2, b2, X)\n",
    "        dW1, db1, dW2, db2 = backward_prop(Z1, A1, Z2, A2, W1, W2, X, Y)\n",
    "        W1, b1, W2, b2 = update_params(W1, b1, W2, b2, dW1, db1, dW2, db2, alpha)\n",
    "        if i % 10 == 0:\n",
    "            print(\"Iteration: \", i)\n",
    "            predictions = get_predictions(A2)\n",
    "            print(get_accuracy(predictions, Y))\n",
    "    return W1, b1, W2, b2"
   ]
  },
  {
   "cell_type": "code",
   "execution_count": 12,
   "metadata": {
    "execution": {
     "iopub.execute_input": "2022-09-01T04:25:52.630716Z",
     "iopub.status.busy": "2022-09-01T04:25:52.630076Z",
     "iopub.status.idle": "2022-09-01T04:27:24.013982Z",
     "shell.execute_reply": "2022-09-01T04:27:24.012723Z",
     "shell.execute_reply.started": "2022-09-01T04:25:52.630681Z"
    }
   },
   "outputs": [
    {
     "name": "stdout",
     "output_type": "stream",
     "text": [
      "Iteration:  0\n",
      "[7 9 9 ... 9 9 9] [3 9 6 ... 2 3 9]\n",
      "0.1215609756097561\n",
      "Iteration:  10\n",
      "[7 9 9 ... 2 9 9] [3 9 6 ... 2 3 9]\n",
      "0.14480487804878048\n",
      "Iteration:  20\n",
      "[7 9 9 ... 2 9 9] [3 9 6 ... 2 3 9]\n",
      "0.16987804878048782\n",
      "Iteration:  30\n",
      "[7 9 9 ... 2 9 9] [3 9 6 ... 2 3 9]\n",
      "0.20185365853658538\n",
      "Iteration:  40\n",
      "[7 9 9 ... 2 9 9] [3 9 6 ... 2 3 9]\n",
      "0.24446341463414634\n",
      "Iteration:  50\n",
      "[7 9 9 ... 2 9 9] [3 9 6 ... 2 3 9]\n",
      "0.30390243902439024\n",
      "Iteration:  60\n",
      "[7 9 9 ... 2 3 9] [3 9 6 ... 2 3 9]\n",
      "0.3515609756097561\n",
      "Iteration:  70\n",
      "[7 9 9 ... 2 3 9] [3 9 6 ... 2 3 9]\n",
      "0.38495121951219513\n",
      "Iteration:  80\n",
      "[9 9 9 ... 2 3 9] [3 9 6 ... 2 3 9]\n",
      "0.4161951219512195\n",
      "Iteration:  90\n",
      "[9 9 9 ... 2 3 7] [3 9 6 ... 2 3 9]\n",
      "0.4624878048780488\n",
      "Iteration:  100\n",
      "[9 9 5 ... 2 3 7] [3 9 6 ... 2 3 9]\n",
      "0.5537804878048781\n",
      "Iteration:  110\n",
      "[9 9 6 ... 2 3 7] [3 9 6 ... 2 3 9]\n",
      "0.5842195121951219\n",
      "Iteration:  120\n",
      "[9 9 6 ... 2 3 9] [3 9 6 ... 2 3 9]\n",
      "0.6055609756097561\n",
      "Iteration:  130\n",
      "[9 9 6 ... 2 3 9] [3 9 6 ... 2 3 9]\n",
      "0.6252682926829268\n",
      "Iteration:  140\n",
      "[9 9 6 ... 2 3 9] [3 9 6 ... 2 3 9]\n",
      "0.6426829268292683\n",
      "Iteration:  150\n",
      "[9 9 6 ... 2 3 9] [3 9 6 ... 2 3 9]\n",
      "0.6595609756097561\n",
      "Iteration:  160\n",
      "[9 9 6 ... 2 3 9] [3 9 6 ... 2 3 9]\n",
      "0.6746341463414635\n",
      "Iteration:  170\n",
      "[9 9 6 ... 2 3 9] [3 9 6 ... 2 3 9]\n",
      "0.6894390243902438\n",
      "Iteration:  180\n",
      "[9 9 6 ... 2 3 9] [3 9 6 ... 2 3 9]\n",
      "0.7018292682926829\n",
      "Iteration:  190\n",
      "[9 9 6 ... 2 3 9] [3 9 6 ... 2 3 9]\n",
      "0.7139512195121951\n",
      "Iteration:  200\n",
      "[9 9 6 ... 2 3 9] [3 9 6 ... 2 3 9]\n",
      "0.7245121951219512\n",
      "Iteration:  210\n",
      "[9 9 6 ... 2 3 9] [3 9 6 ... 2 3 9]\n",
      "0.7349756097560975\n",
      "Iteration:  220\n",
      "[9 9 6 ... 2 3 9] [3 9 6 ... 2 3 9]\n",
      "0.744\n",
      "Iteration:  230\n",
      "[9 9 6 ... 2 8 9] [3 9 6 ... 2 3 9]\n",
      "0.7520243902439024\n",
      "Iteration:  240\n",
      "[9 9 6 ... 2 8 9] [3 9 6 ... 2 3 9]\n",
      "0.7588292682926829\n",
      "Iteration:  250\n",
      "[9 9 6 ... 2 8 9] [3 9 6 ... 2 3 9]\n",
      "0.7655609756097561\n",
      "Iteration:  260\n",
      "[9 9 6 ... 2 8 9] [3 9 6 ... 2 3 9]\n",
      "0.7713658536585366\n",
      "Iteration:  270\n",
      "[9 9 6 ... 2 8 9] [3 9 6 ... 2 3 9]\n",
      "0.7764634146341464\n",
      "Iteration:  280\n",
      "[9 9 6 ... 2 8 9] [3 9 6 ... 2 3 9]\n",
      "0.781829268292683\n",
      "Iteration:  290\n",
      "[9 9 6 ... 2 8 9] [3 9 6 ... 2 3 9]\n",
      "0.7861951219512195\n",
      "Iteration:  300\n",
      "[9 9 6 ... 2 3 9] [3 9 6 ... 2 3 9]\n",
      "0.7901707317073171\n",
      "Iteration:  310\n",
      "[9 9 6 ... 2 3 9] [3 9 6 ... 2 3 9]\n",
      "0.7943170731707317\n",
      "Iteration:  320\n",
      "[9 9 6 ... 2 3 9] [3 9 6 ... 2 3 9]\n",
      "0.7976341463414635\n",
      "Iteration:  330\n",
      "[9 9 6 ... 2 3 9] [3 9 6 ... 2 3 9]\n",
      "0.8009268292682927\n",
      "Iteration:  340\n",
      "[9 9 6 ... 2 3 9] [3 9 6 ... 2 3 9]\n",
      "0.8041707317073171\n",
      "Iteration:  350\n",
      "[9 9 6 ... 2 3 9] [3 9 6 ... 2 3 9]\n",
      "0.8067804878048781\n",
      "Iteration:  360\n",
      "[9 9 6 ... 2 3 9] [3 9 6 ... 2 3 9]\n",
      "0.8093902439024391\n",
      "Iteration:  370\n",
      "[9 9 6 ... 2 3 9] [3 9 6 ... 2 3 9]\n",
      "0.8123414634146342\n",
      "Iteration:  380\n",
      "[9 9 6 ... 2 3 9] [3 9 6 ... 2 3 9]\n",
      "0.8148536585365853\n",
      "Iteration:  390\n",
      "[9 9 6 ... 2 3 9] [3 9 6 ... 2 3 9]\n",
      "0.8171463414634146\n",
      "Iteration:  400\n",
      "[9 9 6 ... 2 3 9] [3 9 6 ... 2 3 9]\n",
      "0.819560975609756\n",
      "Iteration:  410\n",
      "[9 9 6 ... 2 3 9] [3 9 6 ... 2 3 9]\n",
      "0.8219512195121951\n",
      "Iteration:  420\n",
      "[9 9 6 ... 2 3 9] [3 9 6 ... 2 3 9]\n",
      "0.8238292682926829\n",
      "Iteration:  430\n",
      "[9 9 6 ... 2 3 9] [3 9 6 ... 2 3 9]\n",
      "0.8253658536585365\n",
      "Iteration:  440\n",
      "[9 9 6 ... 2 3 9] [3 9 6 ... 2 3 9]\n",
      "0.8270975609756097\n",
      "Iteration:  450\n",
      "[9 9 6 ... 2 3 9] [3 9 6 ... 2 3 9]\n",
      "0.8288292682926829\n",
      "Iteration:  460\n",
      "[9 9 6 ... 2 3 9] [3 9 6 ... 2 3 9]\n",
      "0.8308536585365853\n",
      "Iteration:  470\n",
      "[9 9 6 ... 2 3 9] [3 9 6 ... 2 3 9]\n",
      "0.8323170731707317\n",
      "Iteration:  480\n",
      "[9 9 6 ... 2 3 9] [3 9 6 ... 2 3 9]\n",
      "0.8336829268292683\n",
      "Iteration:  490\n",
      "[9 9 6 ... 2 3 9] [3 9 6 ... 2 3 9]\n",
      "0.8350243902439024\n",
      "Iteration:  500\n",
      "[9 9 6 ... 2 3 9] [3 9 6 ... 2 3 9]\n",
      "0.8364634146341463\n",
      "Iteration:  510\n",
      "[9 9 6 ... 2 3 9] [3 9 6 ... 2 3 9]\n",
      "0.8376341463414634\n",
      "Iteration:  520\n",
      "[9 9 6 ... 2 3 9] [3 9 6 ... 2 3 9]\n",
      "0.8386585365853658\n",
      "Iteration:  530\n",
      "[9 9 6 ... 2 3 9] [3 9 6 ... 2 3 9]\n",
      "0.8395609756097561\n",
      "Iteration:  540\n",
      "[9 9 6 ... 2 3 9] [3 9 6 ... 2 3 9]\n",
      "0.8408048780487805\n",
      "Iteration:  550\n",
      "[9 9 6 ... 2 3 9] [3 9 6 ... 2 3 9]\n",
      "0.8418780487804878\n",
      "Iteration:  560\n",
      "[9 9 6 ... 2 3 9] [3 9 6 ... 2 3 9]\n",
      "0.8430487804878048\n",
      "Iteration:  570\n",
      "[9 9 6 ... 2 3 9] [3 9 6 ... 2 3 9]\n",
      "0.8441463414634146\n",
      "Iteration:  580\n",
      "[9 9 6 ... 2 3 9] [3 9 6 ... 2 3 9]\n",
      "0.845170731707317\n",
      "Iteration:  590\n",
      "[9 9 6 ... 2 3 9] [3 9 6 ... 2 3 9]\n",
      "0.8459512195121951\n",
      "Iteration:  600\n",
      "[9 9 6 ... 2 3 9] [3 9 6 ... 2 3 9]\n",
      "0.8468048780487805\n",
      "Iteration:  610\n",
      "[9 9 6 ... 2 3 9] [3 9 6 ... 2 3 9]\n",
      "0.8475365853658536\n",
      "Iteration:  620\n",
      "[9 9 6 ... 2 3 9] [3 9 6 ... 2 3 9]\n",
      "0.848390243902439\n",
      "Iteration:  630\n",
      "[9 9 6 ... 2 3 9] [3 9 6 ... 2 3 9]\n",
      "0.8493414634146341\n",
      "Iteration:  640\n",
      "[9 9 6 ... 2 3 9] [3 9 6 ... 2 3 9]\n",
      "0.8502682926829268\n",
      "Iteration:  650\n",
      "[9 9 6 ... 2 3 9] [3 9 6 ... 2 3 9]\n",
      "0.8508536585365853\n",
      "Iteration:  660\n",
      "[9 9 6 ... 2 3 9] [3 9 6 ... 2 3 9]\n",
      "0.8516585365853658\n",
      "Iteration:  670\n",
      "[9 9 6 ... 2 3 9] [3 9 6 ... 2 3 9]\n",
      "0.8524390243902439\n",
      "Iteration:  680\n",
      "[9 9 6 ... 2 3 9] [3 9 6 ... 2 3 9]\n",
      "0.8532682926829268\n",
      "Iteration:  690\n",
      "[9 9 6 ... 2 3 9] [3 9 6 ... 2 3 9]\n",
      "0.8540243902439024\n"
     ]
    }
   ],
   "source": [
    " W1, b1, W2, b2 = gradient_descent(X_train, Y_train, 0.10, 700)"
   ]
  },
  {
   "cell_type": "code",
   "execution_count": 13,
   "metadata": {
    "execution": {
     "iopub.execute_input": "2022-09-01T04:39:53.928074Z",
     "iopub.status.busy": "2022-09-01T04:39:53.927689Z",
     "iopub.status.idle": "2022-09-01T04:39:53.935937Z",
     "shell.execute_reply": "2022-09-01T04:39:53.935017Z",
     "shell.execute_reply.started": "2022-09-01T04:39:53.928041Z"
    }
   },
   "outputs": [],
   "source": [
    "def make_prediction(X, W1, b1, W2, b2):\n",
    "    _, _, _, A2 = forward_prop(W1, b1, W2, b2, X)\n",
    "    predictions = get_predictions(A2)\n",
    "    return predictions\n",
    "\n",
    "def test_prediction(index, W1, b1, W2, b2):\n",
    "    current_image = X_train[:, index, None]\n",
    "    prediction = make_prediction(X_train[:, index, None], W1, b1, W2, b2 )\n",
    "    label = Y_train[index]\n",
    "    print(\"Prediction:\", prediction)\n",
    "    print('Label: ', label)\n",
    "    \n",
    "    current_image = current_image.reshape((28,28)) * 255\n",
    "    plt.gray()\n",
    "    plt.imshow(current_image,interpolation= 'nearest')\n",
    "    plt.show()"
   ]
  },
  {
   "cell_type": "code",
   "execution_count": 14,
   "metadata": {
    "execution": {
     "iopub.execute_input": "2022-09-01T04:39:54.321339Z",
     "iopub.status.busy": "2022-09-01T04:39:54.320926Z",
     "iopub.status.idle": "2022-09-01T04:39:55.137160Z",
     "shell.execute_reply": "2022-09-01T04:39:55.135792Z",
     "shell.execute_reply.started": "2022-09-01T04:39:54.321301Z"
    }
   },
   "outputs": [
    {
     "name": "stdout",
     "output_type": "stream",
     "text": [
      "Prediction: [9]\n",
      "Label:  3\n"
     ]
    },
    {
     "data": {
      "image/png": "[encoded data removed]",
      "text/plain": [
       "<Figure size 432x288 with 1 Axes>"
      ]
     },
     "metadata": {
      "needs_background": "light"
     },
     "output_type": "display_data"
    },
    {
     "name": "stdout",
     "output_type": "stream",
     "text": [
      "Prediction: [3]\n",
      "Label:  3\n"
     ]
    },
    {
     "data": {
      "image/png": "[encoded data removed]",
      "text/plain": [
       "<Figure size 432x288 with 1 Axes>"
      ]
     },
     "metadata": {
      "needs_background": "light"
     },
     "output_type": "display_data"
    },
    {
     "name": "stdout",
     "output_type": "stream",
     "text": [
      "Prediction: [2]\n",
      "Label:  0\n"
     ]
    },
    {
     "data": {
      "image/png": "[encoded data removed]",
      "text/plain": [
       "<Figure size 432x288 with 1 Axes>"
      ]
     },
     "metadata": {
      "needs_background": "light"
     },
     "output_type": "display_data"
    },
    {
     "name": "stdout",
     "output_type": "stream",
     "text": [
      "Prediction: [6]\n",
      "Label:  5\n"
     ]
    },
    {
     "data": {
      "image/png": "[encoded data removed]",
      "text/plain": [
       "<Figure size 432x288 with 1 Axes>"
      ]
     },
     "metadata": {
      "needs_background": "light"
     },
     "output_type": "display_data"
    }
   ],
   "source": [
    "test_prediction(0, W1, b1, W2, b2)\n",
    "test_prediction(5, W1, b1, W2, b2)\n",
    "test_prediction(6, W1, b1, W2, b2)\n",
    "test_prediction(10,W1, b1, W2, b2)"
   ]
  },
  {
   "cell_type": "code",
   "execution_count": 15,
   "metadata": {
    "execution": {
     "iopub.execute_input": "2022-09-01T04:40:23.361168Z",
     "iopub.status.busy": "2022-09-01T04:40:23.360754Z",
     "iopub.status.idle": "2022-09-01T04:40:23.381515Z",
     "shell.execute_reply": "2022-09-01T04:40:23.380272Z",
     "shell.execute_reply.started": "2022-09-01T04:40:23.361130Z"
    }
   },
   "outputs": [
    {
     "name": "stdout",
     "output_type": "stream",
     "text": [
      "[8 5 1 6 3 2 6 5 5 4 2 8 4 7 3 4 3 5 9 5 8 5 7 0 5 9 6 3 3 2 4 1 4 2 5 0 5\n",
      " 8 7 2 5 0 2 8 5 5 4 6 7 3 4 1 1 8 2 6 2 2 5 9 3 1 3 4 8 9 6 9 1 5 2 1 0 2\n",
      " 2 9 0 1 7 2 1 5 8 5 8 2 2 1 4 6 4 9 7 3 0 1 8 8 5 8 7 3 6 4 7 5 1 7 5 1 9\n",
      " 3 5 8 8 3 2 5 1 3 6 1 5 4 8 8 9 3 2 7 0 0 7 9 0 7 4 1 9 6 1 6 1 7 7 2 1 0\n",
      " 6 0 1 0 3 5 9 8 4 7 9 1 9 2 4 0 5 1 6 8 8 1 5 4 3 4 2 5 7 8 6 2 7 6 3 7 9\n",
      " 5 9 2 0 6 1 7 1 2 6 5 0 7 8 3 5 4 1 5 7 4 4 8 4 7 6 1 3 4 6 2 8 7 9 9 3 8\n",
      " 4 8 6 0 9 1 2 2 7 9 0 4 2 7 1 3 3 9 4 1 2 3 6 6 9 5 5 3 9 0 8 9 8 2 8 8 6\n",
      " 7 0 6 1 3 4 4 3 5 9 1 7 8 1 7 6 2 9 8 7 7 9 9 8 4 5 5 4 7 9 4 4 8 7 4 2 3\n",
      " 1 9 7 0 1 7 0 3 2 5 2 2 4 0 5 6 0 8 9 5 2 4 8 3 1 5 3 6 0 6 5 7 8 3 7 9 5\n",
      " 7 0 0 4 8 9 6 8 5 6 9 4 0 2 6 6 3 3 4 7 6 1 5 0 3 6 9 4 0 5 3 3 6 2 3 9 0\n",
      " 8 6 4 7 6 0 8 9 9 5 9 9 4 1 2 4 8 0 7 9 5 1 3 7 4 7 9 6 6 3 0 1 5 9 1 2 6\n",
      " 4 9 4 2 3 8 2 7 7 4 1 2 1 7 2 4 6 6 2 7 3 3 0 6 4 3 3 1 4 3 5 5 3 3 5 8 9\n",
      " 9 1 2 8 1 8 0 6 5 0 2 2 9 2 1 3 0 7 0 8 7 5 2 4 1 9 9 5 7 4 2 7 6 7 5 2 6\n",
      " 9 4 5 6 3 3 6 8 5 7 9 7 9 9 9 3 6 7 3 0 7 1 4 7 9 8 0 2 5 9 1 9 1 3 6 1 6\n",
      " 3 6 7 4 3 2 9 3 1 0 5 2 1 2 0 6 2 5 4 0 6 4 0 5 5 3 9 8 0 1 2 3 5 6 0 6 1\n",
      " 7 5 1 4 7 2 0 2 6 3 4 5 9 7 8 1 9 7 2 1 6 7 1 9 3 6 1 1 7 7 8 3 7 0 3 9 8\n",
      " 6 5 0 0 0 9 4 8 5 5 8 9 0 6 2 8 5 8 4 4 2 0 2 6 0 0 6 5 0 7 6 2 0 1 2 7 2\n",
      " 6 0 5 8 0 2 1 6 3 2 0 9 6 5 5 6 1 4 9 3 4 7 8 9 9 6 0 3 1 4 8 7 7 5 6 6 5\n",
      " 2 8 7 7 1 8 6 6 4 2 8 0 3 9 1 5 6 2 1 0 1 6 7 3 6 3 2 3 3 8 6 6 7 5 9 3 4\n",
      " 9 8 4 3 3 3 1 4 3 4 6 5 9 6 7 5 5 1 7 6 7 7 0 0 7 1 6 9 2 6 6 1 3 4 0 0 5\n",
      " 0 7 4 1 9 4 1 7 5 4 2 2 2 6 3 1 2 1 5 7 9 0 7 8 2 9 9 8 9 5 1 6 1 2 9 3 3\n",
      " 7 7 1 8 9 6 1 7 5 3 5 7 1 9 6 5 5 3 8 3 3 2 3 1 5 2 7 1 0 3 6 2 0 7 8 0 8\n",
      " 2 4 2 5 2 3 9 8 6 2 9 2 2 8 5 1 4 0 5 8 8 3 1 3 1 1 8 8 4 2 9 6 7 3 4 6 6\n",
      " 8 1 8 7 0 9 6 3 2 8 5 3 1 9 0 0 2 5 6 1 8 4 8 9 6 5 5 8 8 9 1 9 1 9 9 5 9\n",
      " 3 3 0 4 4 6 7 6 8 6 1 3 4 6 1 2 4 0 2 1 6 6 5 2 5 8 6 5 7 4 1 6 1 6 2 4 1\n",
      " 4 8 1 5 0 6 1 1 0 4 7 7 4 6 1 1 7 0 4 3 9 2 8 3 0 4 4 8 6 7 4 0 8 3 3 1 0\n",
      " 4 1 1 0 6 8 4 1 7 9 6 7 3 8 8 1 8 1 9 8 9 2 1 7 1 6 5 2 6 3 4 6 4 3 4 8 3\n",
      " 3] [8 0 1 6 9 2 6 5 5 6 2 8 4 7 3 4 3 5 9 5 5 5 7 2 5 3 6 3 3 3 4 1 4 2 5 0 5\n",
      " 8 7 2 5 0 2 8 3 5 4 6 7 3 9 1 1 8 6 6 3 2 5 9 3 1 8 9 4 9 6 9 1 5 2 1 0 2\n",
      " 2 9 0 1 7 4 1 5 8 5 8 2 9 1 4 0 4 8 7 3 0 1 8 9 5 3 7 3 6 4 7 5 1 7 5 1 9\n",
      " 5 3 8 8 3 2 5 1 3 6 1 5 4 8 3 9 3 2 7 0 0 7 9 5 7 4 1 9 6 4 6 1 7 7 7 1 5\n",
      " 6 0 1 0 3 3 3 8 4 7 7 1 9 5 4 0 5 1 6 8 8 1 5 4 3 9 0 5 7 8 6 2 7 5 3 7 9\n",
      " 5 6 2 0 6 1 7 1 2 6 5 0 7 9 8 5 4 1 5 7 4 4 8 4 7 6 1 3 4 5 2 8 7 9 9 3 8\n",
      " 4 8 6 0 3 1 2 2 7 3 0 4 2 7 1 3 3 4 4 8 2 3 6 6 9 5 5 5 9 0 8 9 8 2 8 8 6\n",
      " 7 5 6 1 3 9 4 3 5 9 1 7 8 1 7 6 2 9 8 7 7 9 9 8 4 5 5 4 7 9 4 4 8 7 4 2 5\n",
      " 1 9 7 0 1 9 5 3 2 5 5 2 9 0 5 6 0 8 4 5 2 4 8 3 1 5 3 6 0 6 5 7 5 3 7 9 5\n",
      " 7 0 0 4 8 9 0 8 5 6 4 4 0 2 6 6 3 3 4 7 6 9 5 0 3 6 9 9 0 5 3 3 6 2 3 9 0\n",
      " 8 6 4 7 6 0 1 9 9 5 9 9 4 1 2 4 5 0 7 4 8 1 5 7 4 7 9 6 6 3 0 1 5 9 1 4 6\n",
      " 4 4 4 2 5 8 2 7 7 4 1 2 1 5 2 9 2 6 2 7 3 3 0 6 4 5 3 1 4 3 5 5 3 3 5 8 7\n",
      " 4 1 2 8 1 8 5 6 5 0 2 2 9 2 1 8 0 7 0 8 7 3 3 9 1 9 9 5 7 4 2 7 8 7 5 2 6\n",
      " 9 4 5 6 7 3 6 8 5 7 9 7 9 9 4 3 6 7 7 0 7 1 4 7 9 8 0 6 5 4 1 9 1 3 6 1 6\n",
      " 3 6 7 9 3 2 9 3 1 0 5 2 1 2 0 6 2 5 4 0 6 4 0 5 5 3 9 1 5 1 3 3 5 4 0 4 1\n",
      " 7 5 1 4 7 2 0 2 6 3 4 5 4 7 8 1 9 7 2 8 6 7 1 9 3 6 8 1 7 7 6 3 7 0 3 9 8\n",
      " 6 5 0 0 0 9 4 8 3 5 8 9 0 2 6 8 5 2 4 4 2 0 2 6 0 0 6 4 0 7 6 2 0 8 8 7 2\n",
      " 0 0 5 8 0 2 1 6 3 2 0 9 6 5 5 6 1 9 9 5 4 7 8 9 9 5 7 2 1 4 1 7 9 5 0 6 5\n",
      " 2 8 9 7 1 4 6 6 4 2 8 0 3 4 1 3 6 2 1 0 1 6 7 3 6 3 2 3 3 8 6 6 7 0 9 5 4\n",
      " 9 8 4 3 3 3 1 4 5 4 4 5 7 6 7 0 8 1 9 6 7 7 5 0 7 8 6 9 2 6 2 1 8 9 0 0 5\n",
      " 0 7 4 9 9 4 1 7 3 4 2 2 2 6 3 1 5 1 8 7 9 0 7 8 3 9 4 5 9 5 8 6 1 2 9 3 3\n",
      " 7 7 1 8 9 6 2 7 6 3 5 7 1 9 6 5 5 1 8 3 3 2 3 1 5 2 7 1 0 2 2 2 0 7 8 0 8\n",
      " 8 4 2 8 2 3 9 8 6 2 9 2 5 8 5 1 4 0 5 8 8 3 1 3 1 1 8 8 4 2 9 6 7 9 4 2 6\n",
      " 8 1 8 7 0 9 6 3 2 8 5 3 1 9 0 0 2 5 6 1 8 4 8 9 6 5 5 8 8 9 8 7 8 9 9 5 9\n",
      " 3 3 0 4 9 6 9 6 8 6 1 3 4 2 1 2 4 0 2 1 6 6 8 2 8 8 6 5 7 4 1 6 1 6 0 4 1\n",
      " 4 8 1 5 0 6 1 1 0 4 7 7 4 6 1 1 7 0 6 3 9 2 8 3 0 4 4 8 6 7 9 0 8 2 3 1 0\n",
      " 4 1 1 0 6 8 4 1 7 9 6 7 3 8 8 1 8 1 9 8 9 2 1 7 1 6 5 2 6 3 2 6 4 3 4 8 3\n",
      " 3]\n"
     ]
    },
    {
     "data": {
      "text/plain": [
       "0.845"
      ]
     },
     "execution_count": 15,
     "metadata": {},
     "output_type": "execute_result"
    }
   ],
   "source": [
    "dev_predictions = make_prediction(X_dev, W1, b1, W2, b2)\n",
    "get_accuracy(dev_predictions, Y_dev)"
   ]
  },
  {
   "cell_type": "code",
   "execution_count": null,
   "metadata": {},
   "outputs": [],
   "source": []
  }
 ],
 "metadata": {
  "kernelspec": {
   "display_name": "Python 3 (ipykernel)",
   "language": "python",
   "name": "python3"
  },
  "language_info": {
   "codemirror_mode": {
    "name": "ipython",
    "version": 3
   },
   "file_extension": ".py",
   "mimetype": "text/x-python",
   "name": "python",
   "nbconvert_exporter": "python",
   "pygments_lexer": "ipython3",
   "version": "3.9.12"
  }
 },
 "nbformat": 4,
 "nbformat_minor": 4
}
